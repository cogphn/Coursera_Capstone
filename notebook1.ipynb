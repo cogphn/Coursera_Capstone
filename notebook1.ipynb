## First notebook

import pandas as pd 
import numpy as np
